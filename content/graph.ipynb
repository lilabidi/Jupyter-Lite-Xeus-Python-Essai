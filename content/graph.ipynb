{
  "cells": [
    {
      "cell_type": "markdown",
      "metadata": {
        "id": "XsQeJWWEI4KK"
      },
      "source": [
        "# Implémenter la classe arbre binaire\n",
        "> Cours NSI Terminale - Thème 1.\n",
        "- toc: true\n",
        "- badges: true\n",
        "- comments: false\n",
        "- categories: [python, NSI, Terminale, Structure_donnees, POO, TP]\n",
        "- image: images/nsi1.png"
      ]
    },
    {
      "cell_type": "code",
      "execution_count": 1,
      "metadata": {
        "deletable": false,
        "editable": false,
        "nbgrader": {
          "cell_type": "code",
          "checksum": "a481351352d92fb2e8971080f7725530",
          "grade": false,
          "grade_id": "cell-adf696006515d75e",
          "locked": true,
          "schema_version": 3,
          "solution": false,
          "task": false
        },
        "id": "17ikXp9kI4KR"
      },
      "outputs": [],
      "source": [
        "# Validez cette cellule pour importer graphviz\n",
        "# Ce module permet de dessiner des arbres et des graphes\n",
        "from graphviz import Digraph"
      ]
    },
    {
      "cell_type": "markdown",
      "metadata": {
        "deletable": false,
        "editable": false,
        "nbgrader": {
          "cell_type": "markdown",
          "checksum": "29d54e09d95c4a2bcc6dfe41cc84b6ed",
          "grade": false,
          "grade_id": "cell-c9c5cedffbb0eb20",
          "locked": true,
          "schema_version": 3,
          "solution": false
        },
        "id": "W5AlyBb-I4KV"
      },
      "source": [
        "Dans ce TP nous allons implémenter une classe permettant de représenter un arbre binaire.\n",
        "\n",
        "On va pour cela créer un objet **Noeud** qui aura 3 propriétés (ou attributs) :\n",
        "- La propriété **valeur** contiendra la valeur associée au noeud.\n",
        "- Les propriétés **gauche** et **droit** seront les sous arbres gauche et droit.\n",
        "\n",
        "Les deux propriétés **gauche** et **droit** seront  des instances de la classe **Noeud**. Si il n'y a pas de sous arbre gauche ou droit, on indiquera la valeur **None** dans les propriétés correspondantes.\n",
        "\n",
        "\n",
        "Dans notre classe **Noeud**, nous créerons 3 méthodes :\n",
        "- La méthode **est_feuille()** renverra un bouléen selon que l'objet est une feuille ou non.\n",
        "- La méthode **cree_feuille_gauche()** prend en paramètre une valeur et crée une feuille à gauche dont la valeur est passée en paramètres.\n",
        "- La méthode **cree_feuille_droite()** est construite sur le même modèle que **cree_feuille_gauche()**.\n",
        "\n",
        "## Exemple d'utilisation de la classe Noeud\n",
        "\n",
        "En supposant la classe **Noeud** créée, voici comment on l'utilise pour créer cet arbre\n",
        "![exemple1](https://github.com/wawachief/fp-notebooks/blob/master/_notebooks/my_icons/exemple1.png?raw=1)\n",
        "```python\n",
        "arbre = Noeud(\"A\")\n",
        "sous_arbre_gauche = arbre.cree_fils_gauche(\"B\")\n",
        "sous_arbre_gauche.cree_fils_gauche(\"D\")\n",
        "arbre.cree_fils_droit(\"C\")\n",
        "\n",
        "# Quelques vérifications possibles\n",
        "print(arbre.est_feuille())\n",
        "print(arbre.droit.est_feuille())\n",
        "print(arbre.gauche.valeur)\n",
        "# Affiche False True B\n",
        "```"
      ]
    },
    {
      "cell_type": "code",
      "execution_count": 2,
      "metadata": {
        "deletable": false,
        "nbgrader": {
          "cell_type": "code",
          "checksum": "01e3f14977dffd5eec876121d3846169",
          "grade": false,
          "grade_id": "cell-b31cbad2840f3f42",
          "locked": false,
          "schema_version": 3,
          "solution": true,
          "task": false
        },
        "id": "0tIDVtJKI4KX"
      },
      "outputs": [],
      "source": [
        "class Noeud():\n",
        "\n",
        "    # la méthode __repr__ définit ce qui sera affiché\n",
        "    # lorsqu'on tapera l'objet dans Jupyter ou un terminal\n",
        "    # Ici, on affiche juste la valeur du noeud\n",
        "    def __init__(self, etiquette):\n",
        "        self.valeur = etiquette\n",
        "        self.gauche = None\n",
        "        self.droit = None\n",
        "\n",
        "    def __repr__(self):\n",
        "        return str(self.valeur)\n",
        "\n",
        "\n",
        "    # Codez ici les méthodes demandées\n",
        "    # YOUR CODE HERE\n",
        "    #raise NotImplementedError()\n",
        "    def cree_fils_gauche(self, etiquette):\n",
        "        self.gauche = Noeud(etiquette)\n",
        "        return self.gauche\n",
        "    def cree_fils_droit(self, etiquette):\n",
        "        self.droit = Noeud(etiquette)\n",
        "        return self.droit\n",
        "\n",
        "\n",
        "    def est_feuille(self):\n",
        "        if self.gauche == None and self.droit == None:\n",
        "            return True\n",
        "        else:\n",
        "            return False\n"
      ]
    },
    {
      "cell_type": "code",
      "execution_count": 3,
      "metadata": {
        "id": "tyTX5VcII4KY",
        "colab": {
          "base_uri": "https://localhost:8080/"
        },
        "outputId": "c3516b0a-048c-4680-e9fb-cd2aedcb4d07"
      },
      "outputs": [
        {
          "output_type": "stream",
          "name": "stdout",
          "text": [
            "L'etiquette du noeud racine est : 2\n",
            "L'etiquette du noeud à gauche de la racine est : 1\n",
            "L'etiquette du noeud à gauche-gauche de racine est : 0\n"
          ]
        },
        {
          "output_type": "execute_result",
          "data": {
            "text/plain": [
              "True"
            ]
          },
          "metadata": {},
          "execution_count": 3
        }
      ],
      "source": [
        "# Testez ici les méthodes de votre classe\n",
        "a = Noeud(2)\n",
        "print(f\"L'etiquette du noeud racine est : {a}\")\n",
        "a.cree_fils_gauche(1)\n",
        "print(f\"L'etiquette du noeud à gauche de la racine est : {a.gauche}\")\n",
        "a.gauche.cree_fils_gauche(0)\n",
        "print(f\"L'etiquette du noeud à gauche-gauche de racine est : {a.gauche.gauche}\")\n",
        "a.droit = Noeud(\"f\")\n",
        "a.droit.est_feuille()"
      ]
    },
    {
      "cell_type": "code",
      "execution_count": 4,
      "metadata": {
        "deletable": false,
        "editable": false,
        "nbgrader": {
          "cell_type": "code",
          "checksum": "d3076cc5dbd33b7a22cc79471ed2b44c",
          "grade": true,
          "grade_id": "cell-eee2cb758a9af1f2",
          "locked": true,
          "points": 1,
          "schema_version": 3,
          "solution": false
        },
        "id": "PV4axvMRI4Ka"
      },
      "outputs": [],
      "source": [
        "# Tester l'exemple de départ\n",
        "\n",
        "racine = Noeud(\"A\")\n",
        "sous_arbre_gauche = racine.cree_fils_gauche(\"B\")\n",
        "sous_arbre_gauche.cree_fils_gauche(\"D\")\n",
        "racine.cree_fils_droit(\"C\")\n",
        "\n",
        "assert not racine.est_feuille()\n",
        "assert racine.droit.est_feuille()\n",
        "assert racine.gauche.valeur == \"B\""
      ]
    },
    {
      "cell_type": "markdown",
      "metadata": {
        "deletable": false,
        "editable": false,
        "nbgrader": {
          "cell_type": "markdown",
          "checksum": "f21b8facb30deab73fc0eef315e319aa",
          "grade": false,
          "grade_id": "cell-de66d8305c8373b0",
          "locked": true,
          "schema_version": 3,
          "solution": false,
          "task": false
        },
        "id": "mNExWDNII4Kb"
      },
      "source": [
        "## Pour aller plus loin\n",
        "\n",
        "On peut compléter cette classe **Noeud** par une nouvelle classe décrivant un objet **Arbrebin**. Un arbre va contenir le **Noeud** racine ainsi que des méthodes permettant l'affichage de l'arbre ou appliquant des algorithmes sur cet arbre.\n",
        "\n",
        "Nous verrons un peu plus tard dans l'année quelques uns de ces algorithmes. Néanmoins, pour vous donner un aperçu, voici une première ébauche de la classe **Arbrebin** qui nous sera utile pour visualiser facilement les arbres sur lesquels nous travaillerons.\n",
        "\n",
        "Dans un premier temps, il n'est pas strictement nécessaire de comprendre les détails du fonctionnement de la méthode **show** car celle-ci fait appel à de la *récursivité* qui sera étudiée un peu plus tard."
      ]
    },
    {
      "cell_type": "code",
      "execution_count": 5,
      "metadata": {
        "deletable": false,
        "editable": false,
        "nbgrader": {
          "cell_type": "code",
          "checksum": "75e9e116841ced907048b5ae1f75cbe7",
          "grade": false,
          "grade_id": "cell-bbbe2da25e6200c1",
          "locked": true,
          "schema_version": 3,
          "solution": false,
          "task": false
        },
        "id": "El3_6BYvI4Kd"
      },
      "outputs": [],
      "source": [
        "class Arbrebin:\n",
        "    \"\"\"Représente un objet arbre binaire\n",
        "    - Propriétés :\n",
        "        * racine : objet de type Noeud désignant la racine de l'arbre\n",
        "    - Méthodes :\n",
        "        * show() : représentation graphique de l'arbre à l'aide de graphviz\n",
        "    \"\"\"\n",
        "\n",
        "    def __init__(self, racine):\n",
        "        self.racine = racine\n",
        "\n",
        "    def show(self):\n",
        "        \"\"\"Renvoie un objet graphviz pour la visualisation graphique de l'arbre\"\"\"\n",
        "        def representation(dot, noeud, aretes):\n",
        "            # Ajoute la représentation du noeud à la représentation dot de l'arbre\n",
        "            if noeud is not None:\n",
        "                dot.node(str(id(noeud)), str(noeud.valeur))\n",
        "                # Appel récursif de la fonction representation\n",
        "                if noeud.gauche is not None:\n",
        "                    representation(dot, noeud.gauche, aretes)\n",
        "                    aretes.append((str(id(noeud)) , str(id(noeud.gauche))))\n",
        "                if noeud.droit is not None:\n",
        "                    representation(dot, noeud.droit, aretes)\n",
        "                    aretes.append((str(id(noeud)) , str(id(noeud.droit))))\n",
        "\n",
        "        dot = Digraph(comment=\"Arbre binaire\", format='svg')\n",
        "        aretes = []\n",
        "        representation(dot, self.racine, aretes)\n",
        "        dot.edges(aretes)\n",
        "        return dot"
      ]
    },
    {
      "cell_type": "code",
      "execution_count": 6,
      "metadata": {
        "id": "mBGr0KvLI4Ke",
        "colab": {
          "base_uri": "https://localhost:8080/",
          "height": 272
        },
        "outputId": "ed0d507a-600a-4aa5-9600-d2ad504493ae"
      },
      "outputs": [
        {
          "output_type": "execute_result",
          "data": {
            "image/svg+xml": "<?xml version=\"1.0\" encoding=\"UTF-8\" standalone=\"no\"?>\n<!DOCTYPE svg PUBLIC \"-//W3C//DTD SVG 1.1//EN\"\n \"http://www.w3.org/Graphics/SVG/1.1/DTD/svg11.dtd\">\n<!-- Generated by graphviz version 2.43.0 (0)\n -->\n<!-- Title: %3 Pages: 1 -->\n<svg width=\"134pt\" height=\"188pt\"\n viewBox=\"0.00 0.00 134.00 188.00\" xmlns=\"http://www.w3.org/2000/svg\" xmlns:xlink=\"http://www.w3.org/1999/xlink\">\n<g id=\"graph0\" class=\"graph\" transform=\"scale(1 1) rotate(0) translate(4 184)\">\n<title>%3</title>\n<polygon fill=\"white\" stroke=\"transparent\" points=\"-4,4 -4,-184 130,-184 130,4 -4,4\"/>\n<!-- 134176732580160 -->\n<g id=\"node1\" class=\"node\">\n<title>134176732580160</title>\n<ellipse fill=\"none\" stroke=\"black\" cx=\"63\" cy=\"-162\" rx=\"27\" ry=\"18\"/>\n<text text-anchor=\"middle\" x=\"63\" y=\"-158.3\" font-family=\"Times,serif\" font-size=\"14.00\">A</text>\n</g>\n<!-- 134176732579968 -->\n<g id=\"node2\" class=\"node\">\n<title>134176732579968</title>\n<ellipse fill=\"none\" stroke=\"black\" cx=\"27\" cy=\"-90\" rx=\"27\" ry=\"18\"/>\n<text text-anchor=\"middle\" x=\"27\" y=\"-86.3\" font-family=\"Times,serif\" font-size=\"14.00\">B</text>\n</g>\n<!-- 134176732580160&#45;&gt;134176732579968 -->\n<g id=\"edge2\" class=\"edge\">\n<title>134176732580160&#45;&gt;134176732579968</title>\n<path fill=\"none\" stroke=\"black\" d=\"M54.65,-144.76C50.29,-136.28 44.85,-125.71 39.96,-116.2\"/>\n<polygon fill=\"black\" stroke=\"black\" points=\"42.99,-114.44 35.3,-107.15 36.77,-117.64 42.99,-114.44\"/>\n</g>\n<!-- 134176732804480 -->\n<g id=\"node4\" class=\"node\">\n<title>134176732804480</title>\n<ellipse fill=\"none\" stroke=\"black\" cx=\"99\" cy=\"-90\" rx=\"27\" ry=\"18\"/>\n<text text-anchor=\"middle\" x=\"99\" y=\"-86.3\" font-family=\"Times,serif\" font-size=\"14.00\">C</text>\n</g>\n<!-- 134176732580160&#45;&gt;134176732804480 -->\n<g id=\"edge3\" class=\"edge\">\n<title>134176732580160&#45;&gt;134176732804480</title>\n<path fill=\"none\" stroke=\"black\" d=\"M71.35,-144.76C75.71,-136.28 81.15,-125.71 86.04,-116.2\"/>\n<polygon fill=\"black\" stroke=\"black\" points=\"89.23,-117.64 90.7,-107.15 83.01,-114.44 89.23,-117.64\"/>\n</g>\n<!-- 134176732579776 -->\n<g id=\"node3\" class=\"node\">\n<title>134176732579776</title>\n<ellipse fill=\"none\" stroke=\"black\" cx=\"27\" cy=\"-18\" rx=\"27\" ry=\"18\"/>\n<text text-anchor=\"middle\" x=\"27\" y=\"-14.3\" font-family=\"Times,serif\" font-size=\"14.00\">D</text>\n</g>\n<!-- 134176732579968&#45;&gt;134176732579776 -->\n<g id=\"edge1\" class=\"edge\">\n<title>134176732579968&#45;&gt;134176732579776</title>\n<path fill=\"none\" stroke=\"black\" d=\"M27,-71.7C27,-63.98 27,-54.71 27,-46.11\"/>\n<polygon fill=\"black\" stroke=\"black\" points=\"30.5,-46.1 27,-36.1 23.5,-46.1 30.5,-46.1\"/>\n</g>\n</g>\n</svg>\n",
            "text/plain": [
              "<graphviz.graphs.Digraph at 0x7a08747efcd0>"
            ]
          },
          "metadata": {},
          "execution_count": 6
        }
      ],
      "source": [
        "arbre = Arbrebin(racine)\n",
        "arbre.show()"
      ]
    },
    {
      "cell_type": "markdown",
      "metadata": {
        "deletable": false,
        "editable": false,
        "nbgrader": {
          "cell_type": "markdown",
          "checksum": "1c2a01b3a3f33ad3952eb1e4e9ecc713",
          "grade": false,
          "grade_id": "cell-818c401cf1271819",
          "locked": true,
          "schema_version": 3,
          "solution": false
        },
        "id": "3QP7azPmI4Kf"
      },
      "source": [
        "## A vous de jouer\n",
        "\n",
        "A présent, vous utiliserez la classe **Noeud** et **Arbrebin** et les méthodes que vous avez développées pour représenter l'arbre suivant dans la variable `expr`.\n",
        "\n",
        "\n",
        "![expression](https://github.com/wawachief/fp-notebooks/blob/master/_notebooks/my_icons/expr.png?raw=1)\n",
        "\n",
        "Les opérations seront représentées par des chaînes de caractères. Les feuilles seront des entiers."
      ]
    },
    {
      "cell_type": "code",
      "execution_count": 7,
      "metadata": {
        "deletable": false,
        "nbgrader": {
          "cell_type": "code",
          "checksum": "64a0eb4c96db1882d9e6ee9464c396cf",
          "grade": false,
          "grade_id": "cell-506da61b6d6152d2",
          "locked": false,
          "schema_version": 3,
          "solution": true
        },
        "id": "0bOsznoZI4Kg",
        "colab": {
          "base_uri": "https://localhost:8080/"
        },
        "outputId": "4de45a76-f96b-44f6-f917-3b1895ecf006"
      },
      "outputs": [
        {
          "output_type": "execute_result",
          "data": {
            "text/plain": [
              "<__main__.Arbrebin at 0x7a0874832740>"
            ]
          },
          "metadata": {},
          "execution_count": 7
        }
      ],
      "source": [
        "# YOUR CODE HERE\n",
        "\n",
        "racine = Noeud(\"+\")\n",
        "racine.cree_fils_droit(1)\n",
        "\n",
        "racine.cree_fils_gauche(\"-\")\n",
        "racine.gauche.cree_fils_droit(\"^\")\n",
        "racine.gauche.droit.cree_fils_gauche(3)\n",
        "racine.gauche.droit.cree_fils_droit(2)\n",
        "\n",
        "racine.gauche.cree_fils_gauche(\"x\")\n",
        "racine.gauche.gauche.cree_fils_droit(2)\n",
        "\n",
        "racine.gauche.gauche.cree_fils_gauche(\"+\")\n",
        "racine.gauche.gauche.gauche.cree_fils_droit(4)\n",
        "racine.gauche.gauche.gauche.cree_fils_gauche(2)\n",
        "\n",
        "expr = Arbrebin(racine)\n",
        "expr"
      ]
    },
    {
      "cell_type": "code",
      "execution_count": 8,
      "metadata": {
        "deletable": false,
        "editable": false,
        "nbgrader": {
          "cell_type": "code",
          "checksum": "674737bc3e96616285bd6bc1120f3bbe",
          "grade": true,
          "grade_id": "cell-012eb21015157518",
          "locked": true,
          "points": 2,
          "schema_version": 3,
          "solution": false
        },
        "id": "Er4W9PyQI4Kg",
        "colab": {
          "base_uri": "https://localhost:8080/",
          "height": 464
        },
        "outputId": "15597f09-fc56-4009-bd62-f1ed206dce39"
      },
      "outputs": [
        {
          "output_type": "execute_result",
          "data": {
            "image/svg+xml": "<?xml version=\"1.0\" encoding=\"UTF-8\" standalone=\"no\"?>\n<!DOCTYPE svg PUBLIC \"-//W3C//DTD SVG 1.1//EN\"\n \"http://www.w3.org/Graphics/SVG/1.1/DTD/svg11.dtd\">\n<!-- Generated by graphviz version 2.43.0 (0)\n -->\n<!-- Title: %3 Pages: 1 -->\n<svg width=\"314pt\" height=\"332pt\"\n viewBox=\"0.00 0.00 314.00 332.00\" xmlns=\"http://www.w3.org/2000/svg\" xmlns:xlink=\"http://www.w3.org/1999/xlink\">\n<g id=\"graph0\" class=\"graph\" transform=\"scale(1 1) rotate(0) translate(4 328)\">\n<title>%3</title>\n<polygon fill=\"white\" stroke=\"transparent\" points=\"-4,4 -4,-328 310,-328 310,4 -4,4\"/>\n<!-- 134176732806256 -->\n<g id=\"node1\" class=\"node\">\n<title>134176732806256</title>\n<ellipse fill=\"none\" stroke=\"black\" cx=\"207\" cy=\"-306\" rx=\"27\" ry=\"18\"/>\n<text text-anchor=\"middle\" x=\"207\" y=\"-302.3\" font-family=\"Times,serif\" font-size=\"14.00\">+</text>\n</g>\n<!-- 134176732804672 -->\n<g id=\"node2\" class=\"node\">\n<title>134176732804672</title>\n<ellipse fill=\"none\" stroke=\"black\" cx=\"171\" cy=\"-234\" rx=\"27\" ry=\"18\"/>\n<text text-anchor=\"middle\" x=\"171\" y=\"-230.3\" font-family=\"Times,serif\" font-size=\"14.00\">&#45;</text>\n</g>\n<!-- 134176732806256&#45;&gt;134176732804672 -->\n<g id=\"edge9\" class=\"edge\">\n<title>134176732806256&#45;&gt;134176732804672</title>\n<path fill=\"none\" stroke=\"black\" d=\"M198.65,-288.76C194.29,-280.28 188.85,-269.71 183.96,-260.2\"/>\n<polygon fill=\"black\" stroke=\"black\" points=\"186.99,-258.44 179.3,-251.15 180.77,-261.64 186.99,-258.44\"/>\n</g>\n<!-- 134176732805536 -->\n<g id=\"node11\" class=\"node\">\n<title>134176732805536</title>\n<ellipse fill=\"none\" stroke=\"black\" cx=\"243\" cy=\"-234\" rx=\"27\" ry=\"18\"/>\n<text text-anchor=\"middle\" x=\"243\" y=\"-230.3\" font-family=\"Times,serif\" font-size=\"14.00\">1</text>\n</g>\n<!-- 134176732806256&#45;&gt;134176732805536 -->\n<g id=\"edge10\" class=\"edge\">\n<title>134176732806256&#45;&gt;134176732805536</title>\n<path fill=\"none\" stroke=\"black\" d=\"M215.35,-288.76C219.71,-280.28 225.15,-269.71 230.04,-260.2\"/>\n<polygon fill=\"black\" stroke=\"black\" points=\"233.23,-261.64 234.7,-251.15 227.01,-258.44 233.23,-261.64\"/>\n</g>\n<!-- 134176733083056 -->\n<g id=\"node3\" class=\"node\">\n<title>134176733083056</title>\n<ellipse fill=\"none\" stroke=\"black\" cx=\"135\" cy=\"-162\" rx=\"27\" ry=\"18\"/>\n<text text-anchor=\"middle\" x=\"135\" y=\"-158.3\" font-family=\"Times,serif\" font-size=\"14.00\">x</text>\n</g>\n<!-- 134176732804672&#45;&gt;134176733083056 -->\n<g id=\"edge5\" class=\"edge\">\n<title>134176732804672&#45;&gt;134176733083056</title>\n<path fill=\"none\" stroke=\"black\" d=\"M162.65,-216.76C158.29,-208.28 152.85,-197.71 147.96,-188.2\"/>\n<polygon fill=\"black\" stroke=\"black\" points=\"150.99,-186.44 143.3,-179.15 144.77,-189.64 150.99,-186.44\"/>\n</g>\n<!-- 134176732805920 -->\n<g id=\"node8\" class=\"node\">\n<title>134176732805920</title>\n<ellipse fill=\"none\" stroke=\"black\" cx=\"207\" cy=\"-162\" rx=\"27\" ry=\"18\"/>\n<text text-anchor=\"middle\" x=\"207\" y=\"-158.3\" font-family=\"Times,serif\" font-size=\"14.00\">^</text>\n</g>\n<!-- 134176732804672&#45;&gt;134176732805920 -->\n<g id=\"edge8\" class=\"edge\">\n<title>134176732804672&#45;&gt;134176732805920</title>\n<path fill=\"none\" stroke=\"black\" d=\"M179.35,-216.76C183.71,-208.28 189.15,-197.71 194.04,-188.2\"/>\n<polygon fill=\"black\" stroke=\"black\" points=\"197.23,-189.64 198.7,-179.15 191.01,-186.44 197.23,-189.64\"/>\n</g>\n<!-- 134176733081088 -->\n<g id=\"node4\" class=\"node\">\n<title>134176733081088</title>\n<ellipse fill=\"none\" stroke=\"black\" cx=\"63\" cy=\"-90\" rx=\"27\" ry=\"18\"/>\n<text text-anchor=\"middle\" x=\"63\" y=\"-86.3\" font-family=\"Times,serif\" font-size=\"14.00\">+</text>\n</g>\n<!-- 134176733083056&#45;&gt;134176733081088 -->\n<g id=\"edge3\" class=\"edge\">\n<title>134176733083056&#45;&gt;134176733081088</title>\n<path fill=\"none\" stroke=\"black\" d=\"M120.43,-146.83C110.25,-136.94 96.48,-123.55 84.97,-112.36\"/>\n<polygon fill=\"black\" stroke=\"black\" points=\"87.41,-109.85 77.8,-105.38 82.53,-114.87 87.41,-109.85\"/>\n</g>\n<!-- 134176733083344 -->\n<g id=\"node7\" class=\"node\">\n<title>134176733083344</title>\n<ellipse fill=\"none\" stroke=\"black\" cx=\"135\" cy=\"-90\" rx=\"27\" ry=\"18\"/>\n<text text-anchor=\"middle\" x=\"135\" y=\"-86.3\" font-family=\"Times,serif\" font-size=\"14.00\">2</text>\n</g>\n<!-- 134176733083056&#45;&gt;134176733083344 -->\n<g id=\"edge4\" class=\"edge\">\n<title>134176733083056&#45;&gt;134176733083344</title>\n<path fill=\"none\" stroke=\"black\" d=\"M135,-143.7C135,-135.98 135,-126.71 135,-118.11\"/>\n<polygon fill=\"black\" stroke=\"black\" points=\"138.5,-118.1 135,-108.1 131.5,-118.1 138.5,-118.1\"/>\n</g>\n<!-- 134176733079264 -->\n<g id=\"node5\" class=\"node\">\n<title>134176733079264</title>\n<ellipse fill=\"none\" stroke=\"black\" cx=\"27\" cy=\"-18\" rx=\"27\" ry=\"18\"/>\n<text text-anchor=\"middle\" x=\"27\" y=\"-14.3\" font-family=\"Times,serif\" font-size=\"14.00\">2</text>\n</g>\n<!-- 134176733081088&#45;&gt;134176733079264 -->\n<g id=\"edge1\" class=\"edge\">\n<title>134176733081088&#45;&gt;134176733079264</title>\n<path fill=\"none\" stroke=\"black\" d=\"M54.65,-72.76C50.29,-64.28 44.85,-53.71 39.96,-44.2\"/>\n<polygon fill=\"black\" stroke=\"black\" points=\"42.99,-42.44 35.3,-35.15 36.77,-45.64 42.99,-42.44\"/>\n</g>\n<!-- 134176733081280 -->\n<g id=\"node6\" class=\"node\">\n<title>134176733081280</title>\n<ellipse fill=\"none\" stroke=\"black\" cx=\"99\" cy=\"-18\" rx=\"27\" ry=\"18\"/>\n<text text-anchor=\"middle\" x=\"99\" y=\"-14.3\" font-family=\"Times,serif\" font-size=\"14.00\">4</text>\n</g>\n<!-- 134176733081088&#45;&gt;134176733081280 -->\n<g id=\"edge2\" class=\"edge\">\n<title>134176733081088&#45;&gt;134176733081280</title>\n<path fill=\"none\" stroke=\"black\" d=\"M71.35,-72.76C75.71,-64.28 81.15,-53.71 86.04,-44.2\"/>\n<polygon fill=\"black\" stroke=\"black\" points=\"89.23,-45.64 90.7,-35.15 83.01,-42.44 89.23,-45.64\"/>\n</g>\n<!-- 134176733079648 -->\n<g id=\"node9\" class=\"node\">\n<title>134176733079648</title>\n<ellipse fill=\"none\" stroke=\"black\" cx=\"207\" cy=\"-90\" rx=\"27\" ry=\"18\"/>\n<text text-anchor=\"middle\" x=\"207\" y=\"-86.3\" font-family=\"Times,serif\" font-size=\"14.00\">3</text>\n</g>\n<!-- 134176732805920&#45;&gt;134176733079648 -->\n<g id=\"edge6\" class=\"edge\">\n<title>134176732805920&#45;&gt;134176733079648</title>\n<path fill=\"none\" stroke=\"black\" d=\"M207,-143.7C207,-135.98 207,-126.71 207,-118.11\"/>\n<polygon fill=\"black\" stroke=\"black\" points=\"210.5,-118.1 207,-108.1 203.5,-118.1 210.5,-118.1\"/>\n</g>\n<!-- 134176733083104 -->\n<g id=\"node10\" class=\"node\">\n<title>134176733083104</title>\n<ellipse fill=\"none\" stroke=\"black\" cx=\"279\" cy=\"-90\" rx=\"27\" ry=\"18\"/>\n<text text-anchor=\"middle\" x=\"279\" y=\"-86.3\" font-family=\"Times,serif\" font-size=\"14.00\">2</text>\n</g>\n<!-- 134176732805920&#45;&gt;134176733083104 -->\n<g id=\"edge7\" class=\"edge\">\n<title>134176732805920&#45;&gt;134176733083104</title>\n<path fill=\"none\" stroke=\"black\" d=\"M221.57,-146.83C231.75,-136.94 245.52,-123.55 257.03,-112.36\"/>\n<polygon fill=\"black\" stroke=\"black\" points=\"259.47,-114.87 264.2,-105.38 254.59,-109.85 259.47,-114.87\"/>\n</g>\n</g>\n</svg>\n",
            "text/plain": [
              "<graphviz.graphs.Digraph at 0x7a08747ef940>"
            ]
          },
          "metadata": {},
          "execution_count": 8
        }
      ],
      "source": [
        "# Validation de la réponse\n",
        "assert racine.valeur == \"+\"\n",
        "assert racine.droit.valeur == 1\n",
        "\n",
        "expr.show()"
      ]
    },
    {
      "cell_type": "code",
      "execution_count": 9,
      "metadata": {
        "id": "EFJxVUVcI4Kh",
        "colab": {
          "base_uri": "https://localhost:8080/",
          "height": 368
        },
        "outputId": "043c329f-c417-4995-d0af-14b8b0da6bf0"
      },
      "outputs": [
        {
          "output_type": "execute_result",
          "data": {
            "image/svg+xml": "<?xml version=\"1.0\" encoding=\"UTF-8\" standalone=\"no\"?>\n<!DOCTYPE svg PUBLIC \"-//W3C//DTD SVG 1.1//EN\"\n \"http://www.w3.org/Graphics/SVG/1.1/DTD/svg11.dtd\">\n<!-- Generated by graphviz version 2.43.0 (0)\n -->\n<!-- Title: %3 Pages: 1 -->\n<svg width=\"314pt\" height=\"260pt\"\n viewBox=\"0.00 0.00 314.00 260.00\" xmlns=\"http://www.w3.org/2000/svg\" xmlns:xlink=\"http://www.w3.org/1999/xlink\">\n<g id=\"graph0\" class=\"graph\" transform=\"scale(1 1) rotate(0) translate(4 256)\">\n<title>%3</title>\n<polygon fill=\"white\" stroke=\"transparent\" points=\"-4,4 -4,-256 310,-256 310,4 -4,4\"/>\n<!-- 134176732804672 -->\n<g id=\"node1\" class=\"node\">\n<title>134176732804672</title>\n<ellipse fill=\"none\" stroke=\"black\" cx=\"171\" cy=\"-234\" rx=\"27\" ry=\"18\"/>\n<text text-anchor=\"middle\" x=\"171\" y=\"-230.3\" font-family=\"Times,serif\" font-size=\"14.00\">&#45;</text>\n</g>\n<!-- 134176733083056 -->\n<g id=\"node2\" class=\"node\">\n<title>134176733083056</title>\n<ellipse fill=\"none\" stroke=\"black\" cx=\"135\" cy=\"-162\" rx=\"27\" ry=\"18\"/>\n<text text-anchor=\"middle\" x=\"135\" y=\"-158.3\" font-family=\"Times,serif\" font-size=\"14.00\">x</text>\n</g>\n<!-- 134176732804672&#45;&gt;134176733083056 -->\n<g id=\"edge5\" class=\"edge\">\n<title>134176732804672&#45;&gt;134176733083056</title>\n<path fill=\"none\" stroke=\"black\" d=\"M162.65,-216.76C158.29,-208.28 152.85,-197.71 147.96,-188.2\"/>\n<polygon fill=\"black\" stroke=\"black\" points=\"150.99,-186.44 143.3,-179.15 144.77,-189.64 150.99,-186.44\"/>\n</g>\n<!-- 134176732805920 -->\n<g id=\"node7\" class=\"node\">\n<title>134176732805920</title>\n<ellipse fill=\"none\" stroke=\"black\" cx=\"207\" cy=\"-162\" rx=\"27\" ry=\"18\"/>\n<text text-anchor=\"middle\" x=\"207\" y=\"-158.3\" font-family=\"Times,serif\" font-size=\"14.00\">^</text>\n</g>\n<!-- 134176732804672&#45;&gt;134176732805920 -->\n<g id=\"edge8\" class=\"edge\">\n<title>134176732804672&#45;&gt;134176732805920</title>\n<path fill=\"none\" stroke=\"black\" d=\"M179.35,-216.76C183.71,-208.28 189.15,-197.71 194.04,-188.2\"/>\n<polygon fill=\"black\" stroke=\"black\" points=\"197.23,-189.64 198.7,-179.15 191.01,-186.44 197.23,-189.64\"/>\n</g>\n<!-- 134176733081088 -->\n<g id=\"node3\" class=\"node\">\n<title>134176733081088</title>\n<ellipse fill=\"none\" stroke=\"black\" cx=\"63\" cy=\"-90\" rx=\"27\" ry=\"18\"/>\n<text text-anchor=\"middle\" x=\"63\" y=\"-86.3\" font-family=\"Times,serif\" font-size=\"14.00\">+</text>\n</g>\n<!-- 134176733083056&#45;&gt;134176733081088 -->\n<g id=\"edge3\" class=\"edge\">\n<title>134176733083056&#45;&gt;134176733081088</title>\n<path fill=\"none\" stroke=\"black\" d=\"M120.43,-146.83C110.25,-136.94 96.48,-123.55 84.97,-112.36\"/>\n<polygon fill=\"black\" stroke=\"black\" points=\"87.41,-109.85 77.8,-105.38 82.53,-114.87 87.41,-109.85\"/>\n</g>\n<!-- 134176733083344 -->\n<g id=\"node6\" class=\"node\">\n<title>134176733083344</title>\n<ellipse fill=\"none\" stroke=\"black\" cx=\"135\" cy=\"-90\" rx=\"27\" ry=\"18\"/>\n<text text-anchor=\"middle\" x=\"135\" y=\"-86.3\" font-family=\"Times,serif\" font-size=\"14.00\">2</text>\n</g>\n<!-- 134176733083056&#45;&gt;134176733083344 -->\n<g id=\"edge4\" class=\"edge\">\n<title>134176733083056&#45;&gt;134176733083344</title>\n<path fill=\"none\" stroke=\"black\" d=\"M135,-143.7C135,-135.98 135,-126.71 135,-118.11\"/>\n<polygon fill=\"black\" stroke=\"black\" points=\"138.5,-118.1 135,-108.1 131.5,-118.1 138.5,-118.1\"/>\n</g>\n<!-- 134176733079264 -->\n<g id=\"node4\" class=\"node\">\n<title>134176733079264</title>\n<ellipse fill=\"none\" stroke=\"black\" cx=\"27\" cy=\"-18\" rx=\"27\" ry=\"18\"/>\n<text text-anchor=\"middle\" x=\"27\" y=\"-14.3\" font-family=\"Times,serif\" font-size=\"14.00\">2</text>\n</g>\n<!-- 134176733081088&#45;&gt;134176733079264 -->\n<g id=\"edge1\" class=\"edge\">\n<title>134176733081088&#45;&gt;134176733079264</title>\n<path fill=\"none\" stroke=\"black\" d=\"M54.65,-72.76C50.29,-64.28 44.85,-53.71 39.96,-44.2\"/>\n<polygon fill=\"black\" stroke=\"black\" points=\"42.99,-42.44 35.3,-35.15 36.77,-45.64 42.99,-42.44\"/>\n</g>\n<!-- 134176733081280 -->\n<g id=\"node5\" class=\"node\">\n<title>134176733081280</title>\n<ellipse fill=\"none\" stroke=\"black\" cx=\"99\" cy=\"-18\" rx=\"27\" ry=\"18\"/>\n<text text-anchor=\"middle\" x=\"99\" y=\"-14.3\" font-family=\"Times,serif\" font-size=\"14.00\">4</text>\n</g>\n<!-- 134176733081088&#45;&gt;134176733081280 -->\n<g id=\"edge2\" class=\"edge\">\n<title>134176733081088&#45;&gt;134176733081280</title>\n<path fill=\"none\" stroke=\"black\" d=\"M71.35,-72.76C75.71,-64.28 81.15,-53.71 86.04,-44.2\"/>\n<polygon fill=\"black\" stroke=\"black\" points=\"89.23,-45.64 90.7,-35.15 83.01,-42.44 89.23,-45.64\"/>\n</g>\n<!-- 134176733079648 -->\n<g id=\"node8\" class=\"node\">\n<title>134176733079648</title>\n<ellipse fill=\"none\" stroke=\"black\" cx=\"207\" cy=\"-90\" rx=\"27\" ry=\"18\"/>\n<text text-anchor=\"middle\" x=\"207\" y=\"-86.3\" font-family=\"Times,serif\" font-size=\"14.00\">3</text>\n</g>\n<!-- 134176732805920&#45;&gt;134176733079648 -->\n<g id=\"edge6\" class=\"edge\">\n<title>134176732805920&#45;&gt;134176733079648</title>\n<path fill=\"none\" stroke=\"black\" d=\"M207,-143.7C207,-135.98 207,-126.71 207,-118.11\"/>\n<polygon fill=\"black\" stroke=\"black\" points=\"210.5,-118.1 207,-108.1 203.5,-118.1 210.5,-118.1\"/>\n</g>\n<!-- 134176733083104 -->\n<g id=\"node9\" class=\"node\">\n<title>134176733083104</title>\n<ellipse fill=\"none\" stroke=\"black\" cx=\"279\" cy=\"-90\" rx=\"27\" ry=\"18\"/>\n<text text-anchor=\"middle\" x=\"279\" y=\"-86.3\" font-family=\"Times,serif\" font-size=\"14.00\">2</text>\n</g>\n<!-- 134176732805920&#45;&gt;134176733083104 -->\n<g id=\"edge7\" class=\"edge\">\n<title>134176732805920&#45;&gt;134176733083104</title>\n<path fill=\"none\" stroke=\"black\" d=\"M221.57,-146.83C231.75,-136.94 245.52,-123.55 257.03,-112.36\"/>\n<polygon fill=\"black\" stroke=\"black\" points=\"259.47,-114.87 264.2,-105.38 254.59,-109.85 259.47,-114.87\"/>\n</g>\n</g>\n</svg>\n",
            "text/plain": [
              "<graphviz.graphs.Digraph at 0x7a08747ef850>"
            ]
          },
          "metadata": {},
          "execution_count": 9
        }
      ],
      "source": [
        "# Afficher le sous arbre gauche :\n",
        "Arbrebin(racine.gauche).show()"
      ]
    },
    {
      "cell_type": "markdown",
      "metadata": {
        "deletable": false,
        "editable": false,
        "nbgrader": {
          "cell_type": "markdown",
          "checksum": "190d270e75d3becf02b3bef0db88a3ac",
          "grade": false,
          "grade_id": "cell-8cad58a94eb47ea7",
          "locked": true,
          "schema_version": 3,
          "solution": false,
          "task": false
        },
        "id": "rGlvdWqDI4Kh"
      },
      "source": [
        "# Conclusion\n",
        "\n",
        "Nous en resterons la pour le moment. Nous reviendrons sur les arbres plusieurs fois au cours de l'année car cette structure permet de mettre en oeuvre des algorithmes intéressants. Nous complèterons donc notre classe arbre au fur à mesure de la progression de nos conaissance, en particulier lorsque nous étudierons la récursivité."
      ]
    },
    {
      "cell_type": "markdown",
      "source": [
        "*TP qui presente un interet pour la creation d'arbre et la visualisation de ces derniers*"
      ],
      "metadata": {
        "id": "1mweBjRHcn3P"
      }
    }
  ],
  "metadata": {
    "kernelspec": {
      "display_name": "Python 3",
      "language": "python",
      "name": "python3"
    },
    "language_info": {
      "codemirror_mode": {
        "name": "ipython",
        "version": 3
      },
      "file_extension": ".py",
      "mimetype": "text/x-python",
      "name": "python",
      "nbconvert_exporter": "python",
      "pygments_lexer": "ipython3",
      "version": "3.6.9"
    },
    "colab": {
      "provenance": []
    }
  },
  "nbformat": 4,
  "nbformat_minor": 0
}